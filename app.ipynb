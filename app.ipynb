{
 "cells": [
  {
   "cell_type": "code",
   "execution_count": 2,
   "metadata": {},
   "outputs": [],
   "source": [
    "from textwrap import dedent\n",
    "\n",
    "\n",
    "Q=\"\"\" \n",
    "\n",
    "use cauchy schwarz inequality proof, sum of x^2 to n >= 1/n. let x1 + x2 +...xn = 1, and x1, x2,...xn>0\n",
    "\"\"\" \n",
    "\n",
    "\n",
    "from auto_cot import *\n",
    "from prompts import fix_grammar, summary, build_table, vocabulary_remember\n",
    "from pal import MATH_PROMPT,ALGO_PROMPT\n",
    "import pyperclip\n",
    "\n",
    "def remove_empty_lines(text):\n",
    "    \"\"\"Removes empty lines from a string.\"\"\"\n",
    "    lines = text.split('\\n')\n",
    "    non_empty_lines = [line for line in lines if line.strip() != '']\n",
    "    return '\\n'.join(non_empty_lines)\n",
    "\n",
    "txt = remove_empty_lines(dedent(Q))\n",
    "\n",
    "txt = StrategyQA.format(text=txt)\n",
    "\n",
    "pyperclip.copy(txt)\n",
    "\n"
   ]
  },
  {
   "cell_type": "code",
   "execution_count": null,
   "metadata": {},
   "outputs": [],
   "source": []
  }
 ],
 "metadata": {
  "kernelspec": {
   "display_name": "lake-influx",
   "language": "python",
   "name": "python3"
  },
  "language_info": {
   "codemirror_mode": {
    "name": "ipython",
    "version": 3
   },
   "file_extension": ".py",
   "mimetype": "text/x-python",
   "name": "python",
   "nbconvert_exporter": "python",
   "pygments_lexer": "ipython3",
   "version": "3.10.11"
  },
  "orig_nbformat": 4
 },
 "nbformat": 4,
 "nbformat_minor": 2
}
