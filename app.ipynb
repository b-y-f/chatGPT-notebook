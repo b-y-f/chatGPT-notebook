{
 "cells": [
  {
   "cell_type": "code",
   "execution_count": 1,
   "metadata": {},
   "outputs": [],
   "source": [
    "def remove_empty_lines(text):\n",
    "    \"\"\"Removes empty lines from a string.\"\"\"\n",
    "    lines = text.split('\\n')\n",
    "    non_empty_lines = [line for line in lines if line.strip() != '']\n",
    "    return '\\n'.join([\"Think step by step.\"] + non_empty_lines)"
   ]
  },
  {
   "cell_type": "code",
   "execution_count": null,
   "metadata": {},
   "outputs": [],
   "source": [
    "Q=\"\"\"\n",
    "change this code peice to more mordern style\n",
    "\tsgMail.send({\n",
    "\t\tto: dest,\n",
    "\t\tfrom: \"alerts@embrium.com\",\n",
    "\t\tfromname: \"Embrium Alerts\",\n",
    "\t\tsubject: \"GoodMeasure Alert\",\n",
    "\t\thtml: msg,\n",
    "\t}, error => {\n",
    "\t\tif (error) {\n",
    "\t\t\t// TODO Replace with something better ??\n",
    "\t\t\tconsole.error(\"SENDGRID_ERROR\", error)\n",
    "\t\t}\n",
    "\t})\n",
    "\"\"\"\n"
   ]
  },
  {
   "cell_type": "code",
   "execution_count": null,
   "metadata": {},
   "outputs": [],
   "source": [
    "from algo import ALGO_PROMPT\n",
    "from pal import MATH_CHAT_BETA_PROMPT, MATH_PROMPT\n",
    "\n",
    "import pyperclip\n",
    "\n",
    "pyperclip.copy(ALGO_PROMPT.format(question=remove_empty_lines(Q)))\n"
   ]
  }
 ],
 "metadata": {
  "kernelspec": {
   "display_name": "lake-influx",
   "language": "python",
   "name": "python3"
  },
  "language_info": {
   "codemirror_mode": {
    "name": "ipython",
    "version": 3
   },
   "file_extension": ".py",
   "mimetype": "text/x-python",
   "name": "python",
   "nbconvert_exporter": "python",
   "pygments_lexer": "ipython3",
   "version": "3.10.11"
  },
  "orig_nbformat": 4
 },
 "nbformat": 4,
 "nbformat_minor": 2
}
