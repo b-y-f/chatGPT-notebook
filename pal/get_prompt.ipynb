{
 "cells": [
  {
   "cell_type": "code",
   "execution_count": 1,
   "metadata": {},
   "outputs": [],
   "source": [
    "Q = \"\"\"\n",
    "change this code, window['window_label'] = (window['label'].rolling(n).sum() == n).max(), so that i can get the consecutive 1 >n 's count > m then label is as True\n",
    "\"\"\"\n"
   ]
  },
  {
   "cell_type": "code",
   "execution_count": 2,
   "metadata": {},
   "outputs": [],
   "source": [
    "from algo import ALGO_PROMPT\n",
    "from pal import MATH_CHAT_BETA_PROMPT, MATH_PROMPT\n",
    "\n",
    "import pyperclip\n",
    "\n",
    "pyperclip.copy(ALGO_PROMPT.format(question=Q))\n"
   ]
  },
  {
   "cell_type": "code",
   "execution_count": null,
   "metadata": {},
   "outputs": [],
   "source": []
  }
 ],
 "metadata": {
  "kernelspec": {
   "display_name": "chat",
   "language": "python",
   "name": "python3"
  },
  "language_info": {
   "codemirror_mode": {
    "name": "ipython",
    "version": 3
   },
   "file_extension": ".py",
   "mimetype": "text/x-python",
   "name": "python",
   "nbconvert_exporter": "python",
   "pygments_lexer": "ipython3",
   "version": "3.10.10"
  },
  "orig_nbformat": 4
 },
 "nbformat": 4,
 "nbformat_minor": 2
}
