{
 "cells": [
  {
   "cell_type": "code",
   "execution_count": 1,
   "metadata": {},
   "outputs": [],
   "source": [
    "import openai\n",
    "from dotenv import load_dotenv\n",
    "import os\n",
    "\n",
    "\n",
    "load_dotenv()\n",
    "openai.api_key = os.getenv(\"API\")\n"
   ]
  },
  {
   "cell_type": "code",
   "execution_count": 2,
   "metadata": {},
   "outputs": [],
   "source": [
    "# settings\n",
    "python_code = \"you only give me code In standard markdown format, written in python, no other comments and explainations. \"\n",
    "math_teacher = \"You are asked to give me a reason for a problem and why it's the answer like im 10 years old. \"\n"
   ]
  },
  {
   "cell_type": "code",
   "execution_count": 3,
   "metadata": {},
   "outputs": [],
   "source": [
    "def ask_ai(question, system=\"\", max_tokens=200, temperature=0.25):\n",
    "    messages = [{\"role\": \"system\", \"content\": system}]\n",
    "\n",
    "    messages.append({\"role\": \"user\", \"content\": question})\n",
    "    completion = openai.ChatCompletion.create(\n",
    "        model=\"gpt-4\", max_tokens=max_tokens, temperature=temperature, messages=messages, stream=True\n",
    "    )\n",
    "\n",
    "    count = 0\n",
    "    for i in completion:\n",
    "        token = i.choices[0]\n",
    "        if hasattr(token.delta, \"content\"):\n",
    "            text = token.delta.content\n",
    "            count += 1\n",
    "            print(text, end=\"\", flush=True)\n",
    "            if count > 20 :\n",
    "                print()\n",
    "                count = 0\n",
    "            if text.endswith(\"\\n\"):\n",
    "                count = 0\n"
   ]
  },
  {
   "cell_type": "code",
   "execution_count": 5,
   "metadata": {},
   "outputs": [
    {
     "name": "stdout",
     "output_type": "stream",
     "text": [
      "When you run `git log`, it shows the commit history of your repository. Each commit entry includes information\n",
      " about the author, such as their name and email address. The format you see, `Author: my\n",
      "username <mail>`, indicates that the commit was made by a user with the username \"myusername\"\n",
      " and the email address \"mail\".\n",
      "\n",
      "This information is taken from the Git configuration settings, which are set when you first configure Git on your computer\n",
      ". If you want to update your name and email address, you can do so by running the following commands\n",
      ":\n",
      "\n",
      "```\n",
      "git config --global user.name \"Your Name\"\n",
      "git config --global user.email \"your.email@example.com\"\n",
      "```\n",
      "\n",
      "Replace \"Your Name\" with your desired name and \"your.email@example.com\" with your desired email address\n",
      ". After updating your Git configuration, future commits will show the updated author information."
     ]
    }
   ],
   "source": [
    "q = r\"\"\"why when i `git log`, i got this :Author: myusername <mail>\n",
    "\"\"\"\n",
    "\n",
    "ask_ai(q, system=\"github helper\")\n"
   ]
  },
  {
   "cell_type": "code",
   "execution_count": null,
   "metadata": {},
   "outputs": [],
   "source": []
  }
 ],
 "metadata": {
  "kernelspec": {
   "display_name": "chat",
   "language": "python",
   "name": "python3"
  },
  "language_info": {
   "codemirror_mode": {
    "name": "ipython",
    "version": 3
   },
   "file_extension": ".py",
   "mimetype": "text/x-python",
   "name": "python",
   "nbconvert_exporter": "python",
   "pygments_lexer": "ipython3",
   "version": "3.10.10"
  },
  "orig_nbformat": 4
 },
 "nbformat": 4,
 "nbformat_minor": 2
}
