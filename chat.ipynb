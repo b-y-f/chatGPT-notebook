{
 "cells": [
  {
   "cell_type": "code",
   "execution_count": 1,
   "metadata": {},
   "outputs": [],
   "source": [
    "import openai\n",
    "from dotenv import load_dotenv\n",
    "import os\n",
    "\n",
    "\n",
    "load_dotenv()\n",
    "openai.api_key = os.getenv(\"API\")\n"
   ]
  },
  {
   "cell_type": "code",
   "execution_count": 13,
   "metadata": {},
   "outputs": [],
   "source": [
    "# settings\n",
    "python_code = \"you only give me code In standard markdown format, written in python, no other comments and explainations. \"\n",
    "math_teacher = \"You are asked to give me a reason for a problem and why it's the answer like im 10 years old. \"\n"
   ]
  },
  {
   "cell_type": "code",
   "execution_count": 23,
   "metadata": {},
   "outputs": [],
   "source": [
    "def ask_ai(question, system=\"\", max_tokens=200, temperature=0.25):\n",
    "    messages = [{\"role\": \"system\", \"content\": system}]\n",
    "\n",
    "    messages.append({\"role\": \"user\", \"content\": question})\n",
    "    completion = openai.ChatCompletion.create(\n",
    "        model=\"gpt-4\", max_tokens=max_tokens, temperature=temperature, messages=messages, stream=True\n",
    "    )\n",
    "\n",
    "    count = 0\n",
    "    for i in completion:\n",
    "        token = i.choices[0]\n",
    "        if hasattr(token.delta, \"content\"):\n",
    "            text = token.delta.content\n",
    "            count += 1\n",
    "            print(text, end=\"\", flush=True)\n",
    "            if count > 20 :\n",
    "                print()\n",
    "                count = 0\n",
    "            if text.endswith(\"\\n\"):\n",
    "                count = 0\n"
   ]
  },
  {
   "cell_type": "code",
   "execution_count": 25,
   "metadata": {},
   "outputs": [
    {
     "name": "stdout",
     "output_type": "stream",
     "text": [
      "```python\n",
      "text = \"Example text\\n\"\n",
      "is_newline = text.endswith(\"\\n\")\n",
      "```\n"
     ]
    }
   ],
   "source": [
    "q = r\"\"\"python code to check if the last string of text is \\n(new line chars)\n",
    "\"\"\"\n",
    "\n",
    "ask_ai(q, system=python_code)\n"
   ]
  },
  {
   "cell_type": "code",
   "execution_count": null,
   "metadata": {},
   "outputs": [],
   "source": []
  }
 ],
 "metadata": {
  "kernelspec": {
   "display_name": "chat",
   "language": "python",
   "name": "python3"
  },
  "language_info": {
   "codemirror_mode": {
    "name": "ipython",
    "version": 3
   },
   "file_extension": ".py",
   "mimetype": "text/x-python",
   "name": "python",
   "nbconvert_exporter": "python",
   "pygments_lexer": "ipython3",
   "version": "3.10.10"
  },
  "orig_nbformat": 4
 },
 "nbformat": 4,
 "nbformat_minor": 2
}
