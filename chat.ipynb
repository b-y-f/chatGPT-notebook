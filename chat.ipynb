{
 "cells": [
  {
   "cell_type": "code",
   "execution_count": 1,
   "metadata": {},
   "outputs": [],
   "source": [
    "import openai\n",
    "from dotenv import load_dotenv\n",
    "import os\n",
    "\n",
    "\n",
    "load_dotenv()\n",
    "openai.api_key = os.getenv(\"API\")\n"
   ]
  },
  {
   "cell_type": "code",
   "execution_count": 31,
   "metadata": {},
   "outputs": [],
   "source": [
    "# settings\n",
    "python_code = \"you only give me code In standard markdown format, written in python, no other comments and explainations. \"\n",
    "math_teacher = \"You are asked to give me a reason for a problem and why it's the answer like im 10 years old. \"\n",
    "book_advisor = \"helpe me find best textbook books picked by top university, high rate from top tech company, amazon\"\n",
    "fix_grammar = \"\"\"you will rewrite the given text to improve the language.\n",
    "1. Can you rephrase that sentence to make it more clear?\n",
    "2. Could you use proper punctuation in your message?\n",
    "3. Please capitalize the first letter of your sentence.\n",
    "4. Can you provide more context to your message?\n",
    "5. Please use complete sentences instead of fragments.\n",
    "6. Could you use a different word to avoid repetition?\n",
    "7. Please check your spelling before sending your message.\n",
    "8. Can you add more detail to your message to make it more informative?\n",
    "9. Please use appropriate verb tense in your message.\n",
    "10. Could you break up your message into smaller sentences for easier reading?\"\"\""
   ]
  },
  {
   "cell_type": "code",
   "execution_count": 32,
   "metadata": {},
   "outputs": [],
   "source": [
    "def ask_ai(question, system=\"\", max_tokens=200, temperature=0.25):\n",
    "    messages = [{\"role\": \"system\", \"content\": system}]\n",
    "\n",
    "    messages.append({\"role\": \"user\", \"content\": question})\n",
    "    res = openai.ChatCompletion.create(\n",
    "        model=\"gpt-4\", max_tokens=max_tokens, \n",
    "        temperature=temperature, messages=messages, \n",
    "    )\n",
    "\n",
    "    print(res.choices[0].message.content)\n"
   ]
  },
  {
   "cell_type": "code",
   "execution_count": 34,
   "metadata": {},
   "outputs": [
    {
     "name": "stdout",
     "output_type": "stream",
     "text": [
      "Subject: Urgent: Customer Issue - Incorrect Shoe Sizes Received\n",
      "\n",
      "Hello Team,\n",
      "\n",
      "This morning, a customer visited our store seeking assistance with an issue she encountered. She had ordered a pair of shoes (size 7, order number 130129) online on December 26th, 2022, and attached her receipt. Unfortunately, she received an odd pair consisting of a left shoe in size 7 and a right shoe in size 8. She contacted customer service for an exchange, but only received an automated email response and no further solutions. After waiting for over three months, she decided to visit our physical store for help.\n",
      "\n",
      "I discussed the situation with Chucky, who authorized me to proceed with the exchange for the customer. The receipt is attached for reference. Sandi, I have a question regarding this exchange: will it affect our store's stock-on-hand (SOH) level since the shoes did not originally come from our store? If so, please help us balance the stock\n"
     ]
    }
   ],
   "source": [
    "q = r\"\"\"\n",
    "\"\"\"\n",
    "\n",
    "ask_ai(q, temperature=0, system=fix_grammar)\n"
   ]
  },
  {
   "cell_type": "code",
   "execution_count": null,
   "metadata": {},
   "outputs": [],
   "source": []
  }
 ],
 "metadata": {
  "kernelspec": {
   "display_name": "chat",
   "language": "python",
   "name": "python3"
  },
  "language_info": {
   "codemirror_mode": {
    "name": "ipython",
    "version": 3
   },
   "file_extension": ".py",
   "mimetype": "text/x-python",
   "name": "python",
   "nbconvert_exporter": "python",
   "pygments_lexer": "ipython3",
   "version": "3.10.10"
  },
  "orig_nbformat": 4
 },
 "nbformat": 4,
 "nbformat_minor": 2
}
