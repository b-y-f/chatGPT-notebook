{
 "cells": [
  {
   "cell_type": "code",
   "execution_count": 1,
   "metadata": {},
   "outputs": [],
   "source": [
    "import openai\n",
    "from dotenv import load_dotenv\n",
    "import os\n",
    "\n",
    "\n",
    "load_dotenv()\n",
    "openai.api_key = os.getenv(\"API\")\n"
   ]
  },
  {
   "cell_type": "code",
   "execution_count": 2,
   "metadata": {},
   "outputs": [],
   "source": [
    "# settings\n",
    "python_code = \"you only give me code In standard markdown format, written in python, no other comments and explainations. \"\n",
    "math_teacher = \"You are asked to give me a reason for a problem and why it's the answer like im 10 years old. \"\n"
   ]
  },
  {
   "cell_type": "code",
   "execution_count": 3,
   "metadata": {},
   "outputs": [],
   "source": [
    "def ask_ai(question, system=\"\", max_tokens=200, temperature=0.25):\n",
    "    messages = [{\"role\": \"system\", \"content\": system}]\n",
    "\n",
    "    messages.append({\"role\": \"user\", \"content\": question})\n",
    "    completion = openai.ChatCompletion.create(\n",
    "        model=\"gpt-4\", max_tokens=max_tokens, temperature=temperature, messages=messages, stream=True\n",
    "    )\n",
    "\n",
    "    count = 0\n",
    "    for i in completion:\n",
    "        token = i.choices[0]\n",
    "        if hasattr(token.delta, \"content\"):\n",
    "            text = token.delta.content\n",
    "            count += 1\n",
    "            print(text, end=\"\", flush=True)\n",
    "            if count > 20 :\n",
    "                print()\n",
    "                count = 0\n",
    "            if text.endswith(\"\\n\"):\n",
    "                count = 0\n"
   ]
  },
  {
   "cell_type": "code",
   "execution_count": 4,
   "metadata": {},
   "outputs": [
    {
     "name": "stdout",
     "output_type": "stream",
     "text": [
      "If your GitHub commit is not showing your profile picture, it's likely because the email address associated with the\n",
      " commit is not linked to your GitHub account. To fix this, follow these steps:\n",
      "\n",
      "1. Check the email address used in the commit: You can do this by running `git log`\n",
      " in your repository and looking for the email address next to your name in the commit history.\n",
      "\n",
      "2. Add the email address to your GitHub account:\n",
      "\n",
      "   a. Go to your GitHub account settings: https://github.com/settings/emails\n",
      "\n",
      "   b. Click on \"Add email address\" and enter the email address used in the commit.\n",
      "\n",
      "   c. Verify the email address by clicking on the verification link sent to your email.\n",
      "\n",
      "3. Set the email address in your local Git configuration:\n",
      "\n",
      "   a. Open a terminal or command prompt.\n",
      "\n",
      "   b. Run the following command to set the email address globally (for all repositories on your computer):\n",
      " `git config --global user.email \"your_email@example.com\"`\n",
      "\n"
     ]
    }
   ],
   "source": [
    "q = r\"\"\"why github commmit not show my profile picture? when i commit something?\n",
    "\"\"\"\n",
    "\n",
    "ask_ai(q, system=\"github helper\")\n"
   ]
  },
  {
   "cell_type": "code",
   "execution_count": null,
   "metadata": {},
   "outputs": [],
   "source": []
  }
 ],
 "metadata": {
  "kernelspec": {
   "display_name": "chat",
   "language": "python",
   "name": "python3"
  },
  "language_info": {
   "codemirror_mode": {
    "name": "ipython",
    "version": 3
   },
   "file_extension": ".py",
   "mimetype": "text/x-python",
   "name": "python",
   "nbconvert_exporter": "python",
   "pygments_lexer": "ipython3",
   "version": "3.10.10"
  },
  "orig_nbformat": 4
 },
 "nbformat": 4,
 "nbformat_minor": 2
}
