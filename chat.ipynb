{
 "cells": [
  {
   "cell_type": "code",
   "execution_count": 28,
   "metadata": {},
   "outputs": [],
   "source": [
    "import openai\n",
    "from dotenv import load_dotenv\n",
    "import os\n",
    "from IPython.display import Markdown, display\n",
    "\n",
    "\n",
    "load_dotenv()\n",
    "openai.api_key = os.getenv(\"API\")\n"
   ]
  },
  {
   "cell_type": "code",
   "execution_count": 29,
   "metadata": {},
   "outputs": [],
   "source": [
    "# settings\n",
    "PY_CODE = \"you only give me code In standard markdown format, written in python, no other comments and explainations. \"\n",
    "Math_Teacher = 'I want you to act as a math teacher. I will provide some mathematical equations or concepts, and it will be your job to explain them in easy-to-understand terms. This could include providing step-by-step instructions for solving a problem, demonstrating various techniques with visuals or suggesting online resources for further study. My first request is \"I need help understanding how probability works.\"'\n",
    "\n",
    "\n",
    "MAX_TOKEN = 512\n",
    "TEMPERATURE = 0.2\n"
   ]
  },
  {
   "cell_type": "code",
   "execution_count": 31,
   "metadata": {},
   "outputs": [],
   "source": [
    "messages = [{\"role\": \"system\", \"content\": Math_Teacher}]\n",
    "\n",
    "\n",
    "def ask_ai(question, is_stream=False):\n",
    "    messages.append({\"role\": \"user\", \"content\": question})\n",
    "    completion = openai.ChatCompletion.create(\n",
    "        model=\"gpt-4\",\n",
    "        max_tokens=MAX_TOKEN,\n",
    "        temperature=TEMPERATURE,\n",
    "        messages=messages,\n",
    "        stream=is_stream,\n",
    "    )\n",
    "    if is_stream:\n",
    "        for i in completion:\n",
    "            token = i.choices[0]\n",
    "            if hasattr(token.delta, \"content\"):\n",
    "                print(token.delta.content, flush=True, end=\"\")\n",
    "\n",
    "    display(Markdown(completion.choices[0].message.content))\n"
   ]
  },
  {
   "cell_type": "code",
   "execution_count": 32,
   "metadata": {},
   "outputs": [
    {
     "data": {
      "text/markdown": [
       "Bi-injection counting is a combinatorial technique used to count the number of ways to map elements from one set to another set. It is also known as the Pólya Enumeration Theorem or the Burnside's Lemma.\n",
       "\n",
       "To understand bi-injection counting, let's consider an example. Suppose we have two sets A and B, where A has n elements and B has m elements. We want to count the number of bijective functions from A to B, i.e., functions that map each element of A to a unique element of B and vice versa.\n",
       "\n",
       "To solve this problem using bi-injection counting, we need to consider the following steps:\n",
       "\n",
       "1. First, we need to find the number of permutations of the elements in set A. This can be done using the formula n!.\n",
       "\n",
       "2. Next, we need to find the number of ways to map the elements of set A to set B. This can be done using the formula m^n, where n is the number of elements"
      ],
      "text/plain": [
       "<IPython.core.display.Markdown object>"
      ]
     },
     "metadata": {},
     "output_type": "display_data"
    }
   ],
   "source": [
    "q = r\"\"\"\n",
    "teach me about Bi-injection counting\n",
    "\"\"\"\n",
    "ask_ai(q)\n"
   ]
  },
  {
   "cell_type": "code",
   "execution_count": null,
   "metadata": {},
   "outputs": [],
   "source": []
  }
 ],
 "metadata": {
  "kernelspec": {
   "display_name": "chat",
   "language": "python",
   "name": "python3"
  },
  "language_info": {
   "codemirror_mode": {
    "name": "ipython",
    "version": 3
   },
   "file_extension": ".py",
   "mimetype": "text/x-python",
   "name": "python",
   "nbconvert_exporter": "python",
   "pygments_lexer": "ipython3",
   "version": "3.10.10"
  },
  "orig_nbformat": 4
 },
 "nbformat": 4,
 "nbformat_minor": 2
}
