{
 "cells": [
  {
   "cell_type": "code",
   "execution_count": 21,
   "metadata": {},
   "outputs": [],
   "source": [
    "import openai\n",
    "from dotenv import load_dotenv\n",
    "import os\n",
    "from IPython.display import Markdown\n",
    "\n",
    "\n",
    "load_dotenv()\n",
    "\n",
    "openai.api_key = os.getenv(\"API\")"
   ]
  },
  {
   "cell_type": "code",
   "execution_count": 22,
   "metadata": {},
   "outputs": [],
   "source": [
    "# settings\n",
    "PY_CODE = \"you only give me code, python written in python, no other comments and explainations.\"\n",
    "\n",
    "MAX_TOKEN= 200\n",
    "TEMPERATURE = 0.2"
   ]
  },
  {
   "cell_type": "code",
   "execution_count": 79,
   "metadata": {},
   "outputs": [],
   "source": [
    "messages = [{\"role\": \"system\", \"content\": PY_CODE}]\n",
    "def ask_ai(question): \n",
    "    messages.append({\"role\": \"user\", \"content\": question}) \n",
    "    completion = openai.ChatCompletion.create( \n",
    "        model=\"gpt-4\", max_tokens=MAX_TOKEN, temperature=TEMPERATURE, messages=messages) \n",
    "    answer = completion.choices[0].message.content\n",
    "    display(Markdown(answer))\n",
    "\n"
   ]
  },
  {
   "cell_type": "code",
   "execution_count": 80,
   "metadata": {},
   "outputs": [
    {
     "data": {
      "text/markdown": [
       "Here's a simple joke generator in Python:\n",
       "\n",
       "```python\n",
       "import random\n",
       "\n",
       "def tell_joke():\n",
       "    jokes = [\n",
       "        \"Why did the chicken cross the road? To get to the other side!\",\n",
       "        \"Why don't scientists trust atoms? Because they make up everything!\",\n",
       "        \"Why did the tomato turn red? Because it saw the salad dressing!\",\n",
       "        \"Why did the scarecrow win an award? Because he was outstanding in his field!\"\n",
       "    ]\n",
       "    return random.choice(jokes)\n",
       "\n",
       "print(tell_joke())\n",
       "```"
      ],
      "text/plain": [
       "<IPython.core.display.Markdown object>"
      ]
     },
     "metadata": {},
     "output_type": "display_data"
    }
   ],
   "source": [
    "ask_ai(\"tell me a joke\")"
   ]
  },
  {
   "cell_type": "code",
   "execution_count": null,
   "metadata": {},
   "outputs": [],
   "source": []
  }
 ],
 "metadata": {
  "kernelspec": {
   "display_name": "chat",
   "language": "python",
   "name": "python3"
  },
  "language_info": {
   "codemirror_mode": {
    "name": "ipython",
    "version": 3
   },
   "file_extension": ".py",
   "mimetype": "text/x-python",
   "name": "python",
   "nbconvert_exporter": "python",
   "pygments_lexer": "ipython3",
   "version": "3.10.10"
  },
  "orig_nbformat": 4
 },
 "nbformat": 4,
 "nbformat_minor": 2
}
