{
 "cells": [
  {
   "cell_type": "code",
   "execution_count": 1,
   "metadata": {},
   "outputs": [],
   "source": [
    "import openai\n",
    "from dotenv import load_dotenv\n",
    "import os\n",
    "from IPython.display import display_markdown\n",
    "\n",
    "load_dotenv()\n",
    "openai.api_key = os.getenv(\"API\")\n"
   ]
  },
  {
   "cell_type": "code",
   "execution_count": 2,
   "metadata": {},
   "outputs": [],
   "source": [
    "# settings\n",
    "python_code = \"you only give me code In standard markdown format, written in python, with some machine learning libraries, no other comments and explainations. \"\n",
    "\n",
    "math_teacher = \"You are asked to give me a reason for a problem and why it's the answer like im 10 years old. \"\n",
    "\n",
    "book_advisor = \"helpe me find best textbook books picked by top university, high rate from top tech company, amazon\"\n",
    "\n",
    "fix_grammar = \"\"\"you will rewrite the given text to improve the language, but keep the text context match with what I've given.\n",
    "- rephrase that sentence to make it more clear?\n",
    "- use proper punctuation in your message?\n",
    "- use a different word to avoid repetition?\n",
    "- add more detail to your message to make it more informative?\n",
    "- use appropriate verb tense in your message.\n",
    "- break up your message into smaller sentences for easier reading?\"\"\"\n",
    "\n",
    "application_writter = \"\"\"you are good at writting some application for university, computer, or online courses, \n",
    "i will ask you to write topic about xxx for n number of words, you can write it with standard itelts writting 9 score standard.\n",
    "\"\"\"\n",
    "ml_exprt = \"you are mster in sequential model, machine learning, answer me AI, ML, DS related problems.\"\n",
    "\n",
    "email = \"reply the message with understand the context and politely.\"\n",
    "\n",
    "aws_expert = \"\"\"\n",
    "You are aws expert, aws archticture, provide me with tech solutions. \n",
    "\"\"\"\n",
    "\n"
   ]
  },
  {
   "cell_type": "code",
   "execution_count": 3,
   "metadata": {},
   "outputs": [],
   "source": [
    "def ask_ai(question, system=\"\", max_tokens=20, temperature=0.35):\n",
    "    messages = [{\"role\": \"system\", \"content\": system}]\n",
    "\n",
    "    messages.append({\"role\": \"user\", \"content\": question})\n",
    "\n",
    "    while True:\n",
    "        try:\n",
    "            res = openai.ChatCompletion.create(\n",
    "                model=\"gpt-4\", max_tokens=max_tokens, \n",
    "                temperature=temperature, messages=messages, \n",
    "            )\n",
    "            break\n",
    "        except Exception as e:\n",
    "            pass\n",
    "\n",
    "    return display_markdown(res.choices[0].message.content, raw=True)\n"
   ]
  },
  {
   "cell_type": "code",
   "execution_count": 9,
   "metadata": {},
   "outputs": [
    {
     "data": {
      "text/markdown": [
       "It seems that you have not provided any text for me to rewrite. Please provide the text you would like me to improve, and I will be happy to assist you."
      ]
     },
     "metadata": {},
     "output_type": "display_data"
    }
   ],
   "source": [
    "q = \"\"\" \n",
    "\"\"\"\n",
    "ask_ai(q, temperature=0, max_tokens = 512 ,system=fix_grammar)\n"
   ]
  },
  {
   "cell_type": "code",
   "execution_count": null,
   "metadata": {},
   "outputs": [],
   "source": []
  },
  {
   "cell_type": "code",
   "execution_count": null,
   "metadata": {},
   "outputs": [],
   "source": []
  }
 ],
 "metadata": {
  "kernelspec": {
   "display_name": "chat",
   "language": "python",
   "name": "python3"
  },
  "language_info": {
   "codemirror_mode": {
    "name": "ipython",
    "version": 3
   },
   "file_extension": ".py",
   "mimetype": "text/x-python",
   "name": "python",
   "nbconvert_exporter": "python",
   "pygments_lexer": "ipython3",
   "version": "3.10.10"
  },
  "orig_nbformat": 4
 },
 "nbformat": 4,
 "nbformat_minor": 2
}
